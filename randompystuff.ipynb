{
 "cells": [
  {
   "cell_type": "markdown",
   "metadata": {},
   "source": [
    "# Instance-ID Demo\n",
    "\n",
    "Step-by-step on how to current Instance-ID triplet loss network runs\n",
    "\n",
    "First Davis-2017 data must be transformed into MNIST Format\n",
    "\n",
    "You must make sure the following dependencies are installed"
   ]
  },
  {
   "cell_type": "code",
   "execution_count": null,
   "metadata": {},
   "outputs": [],
   "source": [
    "sudo apt-get update\n",
    "sudo apt-get install imagemagick php5-imagick\n",
    "pip install pillow"
   ]
  },
  {
   "cell_type": "markdown",
   "metadata": {},
   "source": [
    "Follow steps listed in JPG-PNG-to_MNIST-NN-Format's ReadMe on how to properly update data files an batches.meta.txt\n",
    "\n",
    "Then run the following commands:"
   ]
  },
  {
   "cell_type": "code",
   "execution_count": null,
   "metadata": {},
   "outputs": [],
   "source": [
    "./resize-script.sh\n",
    "\n",
    "python convert-images-to-mnist-format.py"
   ]
  },
  {
   "cell_type": "markdown",
   "metadata": {},
   "source": [
    "## Running the Triplet-Loss Network\n",
    "\n",
    "The triplet loss network has already been modified to accept the Davis 2017 files once converted to MNIST Format. \n",
    "\n",
    "The resize script has already been ran on a partial sample of the Davis 2017 set and that data has been placed in the tensorflow-triplet-loss dir.\n",
    "\n",
    "In the future more of the Davis 2017 dataset will be modified and ran through the network, for proof of concept a portion of the dataset was used for speed.\n",
    "\n",
    "After data is unzipped and brought to the network, running the network with the current modifications is as simple as runnning the following command within the tensorflow-triplet-loss dir"
   ]
  },
  {
   "cell_type": "code",
   "execution_count": null,
   "metadata": {},
   "outputs": [],
   "source": [
    "python train.py"
   ]
  },
  {
   "cell_type": "markdown",
   "metadata": {},
   "source": [
    "This will yield the following if done correctly: \n",
    "\n",
    "![Result](runtrain.PNG)"
   ]
  }
 ],
 "metadata": {
  "kernelspec": {
   "display_name": "Python 3",
   "language": "python",
   "name": "python3"
  },
  "language_info": {
   "codemirror_mode": {
    "name": "ipython",
    "version": 3
   },
   "file_extension": ".py",
   "mimetype": "text/x-python",
   "name": "python",
   "nbconvert_exporter": "python",
   "pygments_lexer": "ipython3",
   "version": "3.6.6"
  }
 },
 "nbformat": 4,
 "nbformat_minor": 2
}
